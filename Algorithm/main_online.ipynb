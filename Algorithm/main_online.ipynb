{
 "cells": [
  {
   "cell_type": "code",
   "execution_count": null,
   "metadata": {},
   "outputs": [],
   "source": [
    "import numpy as np\n",
    "from correlation_torch import NormXCorr2\n",
    "import matplotlib.pyplot as plt\n",
    "import cv2\n",
    "import time\n",
    "import torch\n",
    "from compute_offset import ApplyShifts\n",
    "from LoadData import load_data as ld\n",
    "from scipy.io import loadmat\n",
    "import scipy.io as io\n",
    "import torch.nn as nn\n",
    "from torch.nn import functional as F\n",
    "from NCCRegistration import NCCMotionCorrection as NMC"
   ]
  },
  {
   "cell_type": "code",
   "execution_count": null,
   "metadata": {},
   "outputs": [],
   "source": [
    "path=\"msCam1.avi\"#replace by your file path\n",
    "video,_,_=ld(path).read_file()\n",
    "video=torch.tensor(video, dtype=torch.float32)\n",
    "use_gpu=True\n",
    "CROP=False #After testing， cropping function is abandoned in the latest code. So please set CROP False. \n",
    "#Crop frame to reduce computation pixels. If the user has high-configured GPU, CROP can be False\n",
    "\n",
    "#create the kernel of high-pass filter\n",
    "kernel=ld(path).generate_kernel((10,10))\n",

    "kernel=torch.tensor(kernel, dtype=torch.float32)\n",
    "\n",
    "if CROP==True:\n",
    "    crop_size=150 #This size should be smaller than the height and width of the video\n",
    "    crop_frame=torch.zeros([crop_size,crop_size], dtype=torch.float)\n",
    "    sum1, a_rot_complex, b_complex, Zeros, theta, template_buffer=ld(path).SetParameters(crop_frame, kernel, CROP, use_gpu)\n",
    "else:\n",
    "    crop_size=0\n",
    "    sum1, a_rot_complex, b_complex, Zeros, theta, template_buffer=ld(path).SetParameters(video[:,:,0], kernel, CROP, use_gpu)\n",
    "\n",
    "new_video=torch.empty([video.shape[0], video.shape[1], video.shape[2]])\n",
    "y_shift=torch.empty([1,video.shape[2]], dtype=torch.float)\n",
    "x_shift=torch.empty([1,video.shape[2]], dtype=torch.float)\n",
    "\n",
    "if use_gpu==True:\n",
    "    kernel=kernel.cuda()\n",
    "    y_shift=y_shift.cuda()\n",
    "    x_xshift=x_shift.cuda()"
   ]
  },
  {
   "cell_type": "code",
   "execution_count": null,
   "metadata": {},
   "outputs": [],
   "source": [
    "#Generate template for registration by using the initial 100 frames\n",
    "init_batch=100\n",
    "init_video=video[:,:,0:100]\n",
    "motion_correction=NMC(sum1, a_rot_complex, b_complex, Zeros, theta, template_buffer, crop_size)\n",
    "preprocess_temp=motion_correction.generate_template(init_batch, init_video, kernel, use_gpu, CROP)\n",
    "del init_video"
   ]
  },
  {
   "cell_type": "code",
   "execution_count": null,
   "metadata": {},
   "outputs": [],
   "source": [
    "#Begin motion correction\n",
    "start=time.clock()\n",
    "new_video, x_shift, y_shift=motion_correction.Online_NCC_motion_correction(video, new_video, x_shift, y_shift, preprocess_temp,  kernel, use_gpu, CROP)\n",
    "end=time.clock()-start\n",
    "print('Time consumption of registration:', end, 's')"
   ]
  },
  {
   "cell_type": "code",
   "execution_count": null,
   "metadata": {},
   "outputs": [],
   "source": [
    "if use_gpu==True:\n",
    "    x_shift=x_shift.cpu()\n",
    "    y_shift=y_shift.cpu()\n",
    "\n",
    "x_shift=x_shift.numpy()\n",
    "y_shift=y_shift.numpy()\n"
   ]
  },
  {
   "cell_type": "code",
   "execution_count": null,
   "metadata": {},
   "outputs": [],
   "source": [
    "x=range(x_shift.shape[1])\n",
    "plt.plot(x,y_shift[0,:], label='shifts on y-axis')\n",
    "plt.plot(x,x_shift[0,:], label='shifts on x-axis')\n",
    "plt.legend()\n",
    "plt.show()\n"
   ]
  },
  {
   "cell_type": "code",
   "execution_count": null,
   "metadata": {},
   "outputs": [],
   "source": [
    "video=video.numpy()\n",
    "new_video=new_video.numpy()\n",
    "new_video=np.array(new_video, dtype='uint8')\n",
    "save_movie=True\n",
    "if save_movie:\n",
    "    save_name='mcvideo'\n",
    "    io.savemat(save_name, {'new_video': new_video})"
   ]
  }
 ],
 "metadata": {
  "kernelspec": {
   "display_name": "Python 3",
   "language": "python",
   "name": "python3"
  },
  "language_info": {
   "codemirror_mode": {
    "name": "ipython",
    "version": 3
   },
   "file_extension": ".py",
   "mimetype": "text/x-python",
   "name": "python",
   "nbconvert_exporter": "python",
   "pygments_lexer": "ipython3",
   "version": "3.6.5"
  }
 },
 "nbformat": 4,
 "nbformat_minor": 2
}
